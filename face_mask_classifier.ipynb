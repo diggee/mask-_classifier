{
 "cells": [
  {
   "cell_type": "code",
   "execution_count": 1,
   "metadata": {
    "_cell_guid": "36d29349-8c08-4416-93b3-8e7388e1ef90",
    "_uuid": "8d827a22-72f5-4034-9a29-fa18e62ce7b9"
   },
   "outputs": [],
   "source": [
    "import numpy as np \n",
    "import pandas as pd \n",
    "import matplotlib.pyplot as plt\n",
    "import cv2\n",
    "import os\n",
    "from shutil import copyfile\n",
    "import random\n",
    "from sklearn.utils import shuffle\n",
    "from sklearn.metrics import confusion_matrix, classification_report\n",
    "import tensorflow as tf\n",
    "from tensorflow.keras.models import Sequential\n",
    "from tensorflow.keras.layers import Dense, Dropout, Conv2D, MaxPooling2D, AveragePooling2D, Flatten, BatchNormalization\n",
    "from tensorflow.keras.callbacks import EarlyStopping, ModelCheckpoint, ReduceLROnPlateau\n",
    "from tensorflow.keras.utils import to_categorical\n",
    "from tensorflow.keras.preprocessing.image import ImageDataGenerator, load_img, img_to_array"
   ]
  },
  {
   "cell_type": "code",
   "execution_count": null,
   "metadata": {},
   "outputs": [],
   "source": [
    "train_mask_images = '../input/face-mask/image_data/training/mask/'\n",
    "train_no_mask_images = '../input/face-mask/image_data/training/no_mask/'\n",
    "valid_mask_images = '../input/face-mask/image_data/validation/mask/'\n",
    "valid_no_mask_images = '../input/face-mask/image_data/validation/no_mask/'"
   ]
  },
  {
   "cell_type": "code",
   "execution_count": null,
   "metadata": {},
   "outputs": [],
   "source": [
    "def neural_network(training_dir, validation_dir):\n",
    "    model = Sequential()\n",
    "    model.add(Conv2D(filters = 128, kernel_size = 2, activation = 'relu', input_shape = (200, 200, 3), data_format = 'channels_last'))\n",
    "    model.add(MaxPooling2D(2))\n",
    "    model.add(BatchNormalization())\n",
    "#     model.add(Dropout(0.3))\n",
    "    \n",
    "    model.add(Conv2D(filters = 128, kernel_size = 2, activation = 'relu'))\n",
    "    model.add(MaxPooling2D(2))\n",
    "    model.add(BatchNormalization())  \n",
    "#     model.add(Dropout(0.3))\n",
    "    \n",
    "    model.add(Conv2D(filters = 128, kernel_size = 2, activation = 'relu'))\n",
    "    model.add(MaxPooling2D(2))\n",
    "    model.add(BatchNormalization())  \n",
    "#     model.add(Dropout(0.3))\n",
    "    \n",
    "\n",
    "    model.add(Flatten())\n",
    "#     model.add(Dense(256, 'relu'))\n",
    "#     model.add(BatchNormalization())\n",
    "    model.add(Dense(128, 'relu'))\n",
    "#     model.add(BatchNormalization())\n",
    "    model.add(Dense(64, 'relu'))\n",
    "#     model.add(BatchNormalization())\n",
    "    model.add(Dense(1, 'sigmoid'))\n",
    "\n",
    "    model.summary()\n",
    "    model.compile(optimizer = 'adam', loss = 'binary_crossentropy', metrics = ['accuracy'])\n",
    "    reduce_lr = ReduceLROnPlateau(monitor = 'loss', factor = 0.5, patience = 30, min_lr = 0.00001, verbose = 1)\n",
    "    checkpoint = ModelCheckpoint('model.h5', monitor = 'loss', save_best_only = True)\n",
    "    stop_early = EarlyStopping(monitor = 'loss', patience = 50)\n",
    "\n",
    "    train_datagen = ImageDataGenerator(\n",
    "      rotation_range=20,\n",
    "      rescale = 1/255,\n",
    "      width_shift_range=0.2,\n",
    "      height_shift_range=0.2,\n",
    "      shear_range=0.2,\n",
    "      zoom_range=0.2,\n",
    "      fill_mode='nearest',\n",
    "      horizontal_flip = True\n",
    "      )\n",
    "    \n",
    "    validation_datagen = ImageDataGenerator(\n",
    "      rotation_range=20,\n",
    "      rescale = 1/255,\n",
    "      width_shift_range=0.2,\n",
    "      height_shift_range=0.2,\n",
    "      shear_range=0.2,\n",
    "      zoom_range=0.2,\n",
    "      fill_mode='nearest',\n",
    "      horizontal_flip = True\n",
    "      )\n",
    "\n",
    "    train_generator = train_datagen.flow_from_directory(training_dir, batch_size = 32, class_mode = 'binary', target_size = (200,200))\n",
    "    valid_generator = validation_datagen.flow_from_directory(validation_dir, batch_size = 32, class_mode = 'binary', target_size = (200,200))\n",
    "    history = model.fit(train_generator, epochs = 500, verbose = 1, validation_data = valid_generator, callbacks = [checkpoint, reduce_lr, stop_early])\n",
    "\n",
    "    return model, history"
   ]
  },
  {
   "cell_type": "code",
   "execution_count": null,
   "metadata": {},
   "outputs": [],
   "source": [
    "model, history = neural_network('../input/face-mask/image_data/training/', '../input/face-mask/image_data/validation/')\n",
    "model.save('version48_model')"
   ]
  },
  {
   "cell_type": "code",
   "execution_count": null,
   "metadata": {},
   "outputs": [],
   "source": [
    "def make_plots(history):\n",
    "    plt.figure()\n",
    "    plt.plot(history.history['accuracy'])\n",
    "    plt.plot(history.history['val_accuracy'])\n",
    "    plt.xlabel('Epochs')\n",
    "    plt.ylabel('Accuracy')\n",
    "    plt.legend(['Training', 'Validation'])\n",
    "    \n",
    "    plt.figure()\n",
    "    plt.plot(history.history['loss'])\n",
    "    plt.plot(history.history['val_loss'])\n",
    "    plt.xlabel('Epochs')\n",
    "    plt.ylabel('Loss')\n",
    "    plt.legend(['Training', 'Validation'])\n",
    "    \n",
    "make_plots(history)"
   ]
  },
  {
   "cell_type": "code",
   "execution_count": null,
   "metadata": {},
   "outputs": [],
   "source": [
    "def test_prediction(filename, model):\n",
    "    image = img_to_array(load_img(testing_folder + filename, target_size = (200, 200)) )\n",
    "    image = np.reshape(image, (-1, 200, 200, 3))\n",
    "    result = model.predict_classes(image)\n",
    "    return result"
   ]
  },
  {
   "cell_type": "code",
   "execution_count": null,
   "metadata": {},
   "outputs": [],
   "source": [
    "testing_folder = '../input/face-mask-testing-images/testing_images/'\n",
    "model.load_weights('model.h5')\n",
    "\n",
    "filenames = [] \n",
    "\n",
    "for file in sorted(os.listdir(testing_folder)):\n",
    "    filenames.append(file)\n",
    "\n",
    "labels = [0,0,0,0,0,0,1,0,0,1,0,1,0,0,0,0,0,0,1,0,1,1,1,1,0,0,0,0,0,0,0,0,0,0,1,1,1,1,1,1,1,1,0,1,0,0,0,1,1,0]\n",
    "df = pd.DataFrame()  \n",
    "df['target'] = labels \n",
    "df.index = filenames\n",
    "df['prediction'] = labels\n",
    "\n",
    "for file in sorted(os.listdir(testing_folder)):\n",
    "    df.loc[file, 'prediction'] = test_prediction(file, model)[0][0]"
   ]
  },
  {
   "cell_type": "code",
   "execution_count": null,
   "metadata": {},
   "outputs": [],
   "source": [
    "print(classification_report(df.target, df.prediction))"
   ]
  },
  {
   "cell_type": "code",
   "execution_count": null,
   "metadata": {},
   "outputs": [],
   "source": [
    "print(confusion_matrix(df.target, df.prediction))"
   ]
  },
  {
   "cell_type": "code",
   "execution_count": null,
   "metadata": {},
   "outputs": [],
   "source": [
    "df"
   ]
  }
 ],
 "metadata": {
  "kernelspec": {
   "display_name": "Python 3 (Spyder)",
   "language": "python3",
   "name": "python3"
  },
  "language_info": {
   "codemirror_mode": {
    "name": "ipython",
    "version": 3
   },
   "file_extension": ".py",
   "mimetype": "text/x-python",
   "name": "python",
   "nbconvert_exporter": "python",
   "pygments_lexer": "ipython3",
   "version": "3.7.3"
  }
 },
 "nbformat": 4,
 "nbformat_minor": 4
}
